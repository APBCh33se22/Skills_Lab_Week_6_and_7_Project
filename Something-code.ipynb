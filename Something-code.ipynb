{
 "cells": [
  {
   "cell_type": "code",
   "execution_count": null,
   "metadata": {},
   "outputs": [],
   "source": [
    "def main() :\n",
    "    username = input(\"Please enter name: \\n\")\n",
    "    age = int(input(\"What is your age: \"))\n",
    "    if (age > 120 or age <= 0):\n",
    "        print(\"That is not a valid age!\")\n",
    "    elif (age >= 18):\n",
    "        print(\"You are eligible to vote!\")\n",
    "    else:\n",
    "        print(f\"You will be able to vote in {18-age} years.\")\n",
    "main"
   ]
  }
 ],
 "metadata": {
  "kernelspec": {
   "display_name": "Python 3",
   "language": "python",
   "name": "python3"
  },
  "language_info": {
   "codemirror_mode": {
    "name": "ipython",
    "version": 3
   },
   "file_extension": ".py",
   "mimetype": "text/x-python",
   "name": "python",
   "nbconvert_exporter": "python",
   "pygments_lexer": "ipython3",
   "version": "3.8.3"
  }
 },
 "nbformat": 4,
 "nbformat_minor": 4
}
